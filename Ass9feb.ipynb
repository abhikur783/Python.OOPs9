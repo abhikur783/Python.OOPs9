{
 "cells": [
  {
   "cell_type": "code",
   "execution_count": null,
   "id": "85471a28-d174-4136-87df-b5983545d8d3",
   "metadata": {},
   "outputs": [],
   "source": [
    "Q1, Create a vehicle class with an init method having instance variables as name_of_vehicle, max_speed\n",
    "and average_of_vehicle."
   ]
  },
  {
   "cell_type": "code",
   "execution_count": 1,
   "id": "e361b59a-3470-4292-9a89-cf76153cbd84",
   "metadata": {},
   "outputs": [],
   "source": [
    "class Vehicle:\n",
    "    def __init__(self, name_of_vehicle, max_speed, average_of_vehicle):\n",
    "        self.name_of_vehicle = name_of_vehicle\n",
    "        self.max_speed = max_speed\n",
    "        self.average_of_vehicle = average_of_vehicle\n"
   ]
  },
  {
   "cell_type": "code",
   "execution_count": 5,
   "id": "d1636ad4-c21e-4cc2-92d2-00e2c3bd607d",
   "metadata": {},
   "outputs": [],
   "source": [
    "car = Vehicle(\"Toyota\", 200, 35)\n"
   ]
  },
  {
   "cell_type": "code",
   "execution_count": 6,
   "id": "02094285-fe19-4c8f-bc90-d699debbd4aa",
   "metadata": {},
   "outputs": [
    {
     "data": {
      "text/plain": [
       "200"
      ]
     },
     "execution_count": 6,
     "metadata": {},
     "output_type": "execute_result"
    }
   ],
   "source": [
    "car.max_speed"
   ]
  },
  {
   "cell_type": "code",
   "execution_count": 7,
   "id": "3e499585-e90c-4fbe-9932-fd6d020c1cbe",
   "metadata": {},
   "outputs": [
    {
     "data": {
      "text/plain": [
       "'Toyota'"
      ]
     },
     "execution_count": 7,
     "metadata": {},
     "output_type": "execute_result"
    }
   ],
   "source": [
    "car.name_of_vehicle"
   ]
  },
  {
   "cell_type": "code",
   "execution_count": 8,
   "id": "3014e738-8b07-441c-90ed-fed29af028ab",
   "metadata": {},
   "outputs": [
    {
     "data": {
      "text/plain": [
       "35"
      ]
     },
     "execution_count": 8,
     "metadata": {},
     "output_type": "execute_result"
    }
   ],
   "source": [
    "car.average_of_vehicle"
   ]
  },
  {
   "cell_type": "code",
   "execution_count": null,
   "id": "f6bb76d7-5c9d-46e1-8eaf-d380caf0a1ef",
   "metadata": {},
   "outputs": [],
   "source": [
    "Q2. Create a child class car from the vehicle class created in Que 1, which will inherit the vehicle class.\n",
    "Create a method named seating_capacity which takes capacity as an argument and returns the name of\n",
    "the vehicle and its seating capacity."
   ]
  },
  {
   "cell_type": "code",
   "execution_count": 9,
   "id": "06a5aeb2-7337-4a54-a263-612bdd67f2a9",
   "metadata": {},
   "outputs": [],
   "source": [
    "class Car(Vehicle):\n",
    "    def seating_capacity(self, capacity):\n",
    "        return f\"{self.name_of_vehicle} has a seating capacity of {capacity} persons.\"\n"
   ]
  },
  {
   "cell_type": "code",
   "execution_count": 10,
   "id": "c3820e38-5a1a-400a-b48f-7710845043aa",
   "metadata": {},
   "outputs": [
    {
     "name": "stdout",
     "output_type": "stream",
     "text": [
      "Toyota has a seating capacity of 5 persons.\n"
     ]
    }
   ],
   "source": [
    "car = Car(\"Toyota\", 200, 35)\n",
    "print(car.seating_capacity(5))\n"
   ]
  },
  {
   "cell_type": "code",
   "execution_count": 12,
   "id": "4444897a-0f6f-4d1a-86f1-1befcad3528f",
   "metadata": {},
   "outputs": [
    {
     "name": "stdout",
     "output_type": "stream",
     "text": [
      "fortuner has a seating capacity of 7 persons.\n"
     ]
    }
   ],
   "source": [
    "car = Car(\"fortuner\",250,45)\n",
    "print(car.seating_capacity(7))"
   ]
  },
  {
   "cell_type": "code",
   "execution_count": null,
   "id": "85accca8-ca31-4abc-80df-be17ad3a4c91",
   "metadata": {},
   "outputs": [],
   "source": [
    "Q3. What is multiple inheritance? Write a python code to demonstrate multiple inheritance.\n",
    "Ans: Multiple inheritance is a feature of object-oriented programming in which a class can inherit attributes \n",
    "and methods from more than one parent class. This means that a class can be derived from two or more base classes,\n",
    "and it can have access to all the methods and attributes of those classes.\n",
    "\n",
    "Here's an example code that demonstrates multiple inheritance in Python:"
   ]
  },
  {
   "cell_type": "code",
   "execution_count": 13,
   "id": "24f244ad-c832-4e05-9189-73517b15a4af",
   "metadata": {},
   "outputs": [],
   "source": [
    "class Employee:\n",
    "    def __init__(self, name, age, salary):\n",
    "        self.name = name\n",
    "        self.age = age\n",
    "        self.salary = salary\n",
    "\n",
    "    def get_details(self):\n",
    "        return f\"Name: {self.name}, Age: {self.age}, Salary: {self.salary}\"\n",
    "\n",
    "class Manager:\n",
    "    def __init__(self, department, employees):\n",
    "        self.department = department\n",
    "        self.employees = employees\n",
    "\n",
    "    def get_details(self):\n",
    "        return f\"Department: {self.department}, Employees: {self.employees}\"\n",
    "\n",
    "class ManagerEmployee(Employee, Manager):\n",
    "    def __init__(self, name, age, salary, department, employees):\n",
    "        Employee.__init__(self, name, age, salary)\n",
    "        Manager.__init__(self, department, employees)\n",
    "\n",
    "    def get_details(self):\n",
    "        emp_details = Employee.get_details(self)\n",
    "        mgr_details = Manager.get_details(self)\n",
    "        return f\"{emp_details}, {mgr_details}\"\n"
   ]
  },
  {
   "cell_type": "code",
   "execution_count": 14,
   "id": "8ad39501-fe76-4ef4-a745-1d085f4c9ba2",
   "metadata": {},
   "outputs": [
    {
     "name": "stdout",
     "output_type": "stream",
     "text": [
      "Name: John, Age: 35, Salary: 100000, Department: Sales, Employees: 10\n"
     ]
    }
   ],
   "source": [
    "mgr_emp = ManagerEmployee(\"John\", 35, 100000, \"Sales\", 10)\n",
    "print(mgr_emp.get_details())\n"
   ]
  },
  {
   "cell_type": "code",
   "execution_count": null,
   "id": "641a44ca-2b42-4a4c-a916-c40f393b9c64",
   "metadata": {},
   "outputs": [],
   "source": [
    "Q4. What are getter and setter in python? Create a class and create a getter and a setter method in this\n",
    "class.\n",
    "ans:In Python, getter and setter methods are used to access and modify the attributes (instance variables) of\n",
    "    a class, respectively. The getter method returns the value of an attribute, while the setter method sets the \n",
    "    value of an attribute.\n",
    "\n",
    "Here's an example code that creates a Person class with an age instance variable and getter and setter methods\n",
    "for the age variable:"
   ]
  },
  {
   "cell_type": "code",
   "execution_count": 12,
   "id": "3aec4574-a602-40ba-84aa-213294945d13",
   "metadata": {},
   "outputs": [],
   "source": [
    "class Person:\n",
    "    def __init__(self, name, age):\n",
    "        self.name = name\n",
    "        self._age = age  # using a convention of a single underscore to indicate this is a protected attribute\n",
    "\n",
    "    def get_age(self):\n",
    "        return self._age\n",
    "\n",
    "    def set_age(self, age):\n",
    "        if age > 0:\n",
    "            self._age = age\n",
    "        else:\n",
    "            print(\"Invalid age value\")\n",
    "\n",
    "\n"
   ]
  },
  {
   "cell_type": "code",
   "execution_count": 13,
   "id": "2d250a72-c248-4eba-b629-2cf91222ce2a",
   "metadata": {},
   "outputs": [],
   "source": [
    "person1 =Person(\"abhi\",25)"
   ]
  },
  {
   "cell_type": "code",
   "execution_count": 14,
   "id": "5fe69eef-4542-4d8b-9c40-78e11faaddd6",
   "metadata": {},
   "outputs": [
    {
     "name": "stdout",
     "output_type": "stream",
     "text": [
      "25\n"
     ]
    }
   ],
   "source": [
    "print(person1.get_age())"
   ]
  },
  {
   "cell_type": "code",
   "execution_count": 15,
   "id": "202f56e7-fb4c-4525-b8ba-62db9fa9ac96",
   "metadata": {},
   "outputs": [],
   "source": [
    "person1.set_age(30)"
   ]
  },
  {
   "cell_type": "code",
   "execution_count": 16,
   "id": "66c3bc87-6b1f-4099-aa17-af55d2b6d785",
   "metadata": {},
   "outputs": [
    {
     "name": "stdout",
     "output_type": "stream",
     "text": [
      "30\n"
     ]
    }
   ],
   "source": [
    "print(person1.get_age())"
   ]
  },
  {
   "cell_type": "code",
   "execution_count": null,
   "id": "904c3fdd-f589-41d8-86c1-e73385819661",
   "metadata": {},
   "outputs": [],
   "source": [
    "Q5.What is method overriding in python? Write a python code to demonstrate method overriding.\n",
    "Ans:  Method overriding is a feature in object-oriented programming where a subclass provides its own\n",
    "   implementation of a method that is already defined in its superclass, and this new implementation is\n",
    "   used instead of the one in the superclass when the method is called on an instance of the subclass.\n",
    "\n",
    "Here's an example code that demonstrates method overriding in Python:"
   ]
  },
  {
   "cell_type": "code",
   "execution_count": 17,
   "id": "c111e0bd-aada-4fdf-9a7a-0e7ae21d0b18",
   "metadata": {},
   "outputs": [
    {
     "name": "stdout",
     "output_type": "stream",
     "text": [
      "This is a Toyota Corolla with 4 doors.\n"
     ]
    }
   ],
   "source": [
    "class Vehicle:\n",
    "    def __init__(self, brand, model):\n",
    "        self.brand = brand\n",
    "        self.model = model\n",
    "\n",
    "    def display_info(self):\n",
    "        print(f\"This is a {self.brand} {self.model}.\")\n",
    "\n",
    "class Car(Vehicle):\n",
    "    def __init__(self, brand, model, num_doors):\n",
    "        super().__init__(brand, model)\n",
    "        self.num_doors = num_doors\n",
    "\n",
    "    def display_info(self):\n",
    "        print(f\"This is a {self.brand} {self.model} with {self.num_doors} doors.\")\n",
    "\n",
    "car = Car(\"Toyota\", \"Corolla\", 4)\n",
    "car.display_info()\n"
   ]
  },
  {
   "cell_type": "code",
   "execution_count": null,
   "id": "f80fac4c-e3b9-4476-b160-067f78000099",
   "metadata": {},
   "outputs": [],
   "source": []
  }
 ],
 "metadata": {
  "kernelspec": {
   "display_name": "Python 3 (ipykernel)",
   "language": "python",
   "name": "python3"
  },
  "language_info": {
   "codemirror_mode": {
    "name": "ipython",
    "version": 3
   },
   "file_extension": ".py",
   "mimetype": "text/x-python",
   "name": "python",
   "nbconvert_exporter": "python",
   "pygments_lexer": "ipython3",
   "version": "3.10.8"
  }
 },
 "nbformat": 4,
 "nbformat_minor": 5
}
